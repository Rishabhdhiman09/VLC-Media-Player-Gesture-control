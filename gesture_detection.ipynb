{
 "cells": [
  {
   "cell_type": "code",
   "execution_count": 1,
   "metadata": {},
   "outputs": [],
   "source": [
    "import numpy as np\n",
    "import cv2\n",
    "import os"
   ]
  },
  {
   "cell_type": "code",
   "execution_count": 2,
   "metadata": {},
   "outputs": [],
   "source": [
    "# Make folders for train and test data\n",
    "if not os.path.exists(\"data\"):\n",
    "    os.makedirs(\"data\")\n",
    "    os.makedirs(\"data/train\")\n",
    "    os.makedirs(\"data/test\")\n",
    "    os.makedirs(\"data/train/0\")\n",
    "    os.makedirs(\"data/train/4\")        \n",
    "    os.makedirs(\"data/train/5\") \n",
    "    os.makedirs(\"data/test/0\")\n",
    "    os.makedirs(\"data/test/4\")        \n",
    "    os.makedirs(\"data/test/5\") "
   ]
  },
  {
   "cell_type": "code",
   "execution_count": 3,
   "metadata": {},
   "outputs": [],
   "source": [
    "# Fill data into the train and test folder\n",
    "\n",
    "\n",
    "camera = cv2.VideoCapture(0)\n",
    "\n",
    "while True:\n",
    "    ret, frame = camera.read()\n",
    "    \n",
    "    # Flip the camera\n",
    "    frame = cv2.flip(frame, 1)\n",
    "    # Shows no of images in train folder\n",
    "    zero_train = len(os.listdir('data/train/0'))\n",
    "    four_train = len(os.listdir('data/train/4'))\n",
    "    five_train = len(os.listdir('data/train/5'))\n",
    "    \n",
    "    # Show no of images in test folder\n",
    "    zero_test = len(os.listdir('data/test/0'))\n",
    "    four_test = len(os.listdir('data/test/4'))\n",
    "    five_test = len(os.listdir('data/test/5'))\n",
    "    \n",
    "    # Area of hand detection detections\n",
    "    x1 = int(0.5*frame.shape[1])\n",
    "    y1 = 10\n",
    "    x2 = frame.shape[1] - 10\n",
    "    y2 = int(0.5*frame.shape[1])\n",
    "    \n",
    "    \n",
    "    cv2.rectangle(frame, (x1, y1), (x2, y2), (255, 0, 0), 1)\n",
    "    area = frame[y1:y2, x1:x2]\n",
    "    area = cv2.resize(area, (64, 64))\n",
    "    \n",
    "    area = cv2.cvtColor(area, cv2.COLOR_BGR2GRAY)\n",
    "    ret2, area = cv2.threshold(area, 120, 255, cv2.THRESH_BINARY)\n",
    "    cv2.imshow(\"area\", area) \n",
    "    \n",
    "    \n",
    "    cv2.putText(frame,'Images on 0 : ' + str(zero_train),(200,25), cv2.FONT_HERSHEY_SIMPLEX, 1,(255,255,255),1)\n",
    "    cv2.putText(frame,'Images on 4 : ' + str(four_train),(200,50), cv2.FONT_HERSHEY_SIMPLEX, 1,(255,255,255),1)\n",
    "    cv2.putText(frame,'Images on 5 : ' + str(five_train),(200,75), cv2.FONT_HERSHEY_SIMPLEX, 1,(255,255,255),1)\n",
    "    cv2.imshow(\"frame\", frame)\n",
    "\n",
    "          \n",
    "     \n",
    "    \n",
    "    if cv2.waitKey(10) & 0xFF == ord(\"q\"):\n",
    "        break\n",
    "    if cv2.waitKey(10) & 0xFF == ord(\"0\"):\n",
    "        cv2.imwrite(\"data/train/0/\" + str(zero_train) + \".jpg\" , area)\n",
    "    if cv2.waitKey(10) & 0xFF == ord(\"4\"):\n",
    "        cv2.imwrite(\"data/train/4/\" + str(four_train) + \".jpg\" , area)\n",
    "    if cv2.waitKey(10) & 0xFF == ord(\"5\"):\n",
    "        cv2.imwrite(\"data/train/5/\" + str(five_train) + \".jpg\" , area)\n",
    "        \n",
    "camera.release()\n",
    "cv2.destroyAllWindows()"
   ]
  },
  {
   "cell_type": "code",
   "execution_count": 4,
   "metadata": {},
   "outputs": [
    {
     "data": {
      "image/jpeg": "[encoded data removed]",
      "text/plain": [
       "<IPython.core.display.Image object>"
      ]
     },
     "metadata": {},
     "output_type": "display_data"
    },
    {
     "name": "stdout",
     "output_type": "stream",
     "text": [
      "data/train/0/5.jpg\n"
     ]
    },
    {
     "data": {
      "image/jpeg": "[encoded data removed]",
      "text/plain": [
       "<IPython.core.display.Image object>"
      ]
     },
     "metadata": {},
     "output_type": "display_data"
    },
    {
     "name": "stdout",
     "output_type": "stream",
     "text": [
      "data/train/4/5.jpg\n"
     ]
    },
    {
     "data": {
      "image/jpeg": "[encoded data removed]",
      "text/plain": [
       "<IPython.core.display.Image object>"
      ]
     },
     "metadata": {},
     "output_type": "display_data"
    },
    {
     "name": "stdout",
     "output_type": "stream",
     "text": [
      "data/train/5/5.jpg\n"
     ]
    }
   ],
   "source": [
    "from IPython.display import Image, display\n",
    "from glob import glob\n",
    "listofImageNames = glob('data/train/5/5.jpg', recursive=True)\n",
    "for i in [0, 4, 5]:\n",
    "    for imageName in glob('data/train/'+ str(i)+'/5.jpg', recursive=True):\n",
    "        display(Image(filename=imageName))\n",
    "        print(imageName),"
   ]
  },
  {
   "cell_type": "code",
   "execution_count": 5,
   "metadata": {},
   "outputs": [],
   "source": [
    "# Trainig of data using CNN"
   ]
  },
  {
   "cell_type": "code",
   "execution_count": 6,
   "metadata": {},
   "outputs": [
    {
     "name": "stderr",
     "output_type": "stream",
     "text": [
      "Using TensorFlow backend.\n"
     ]
    }
   ],
   "source": [
    "from keras.models import Sequential\n",
    "from keras.layers import Convolution2D\n",
    "from keras.layers import MaxPooling2D\n",
    "from keras.layers import Flatten\n",
    "from keras.layers import Dense"
   ]
  },
  {
   "cell_type": "code",
   "execution_count": 7,
   "metadata": {},
   "outputs": [],
   "source": [
    "classifier = Sequential()"
   ]
  },
  {
   "cell_type": "code",
   "execution_count": 8,
   "metadata": {},
   "outputs": [
    {
     "name": "stdout",
     "output_type": "stream",
     "text": [
      "WARNING:tensorflow:From /home/rishabh/anaconda3/lib/python3.7/site-packages/keras/backend/tensorflow_backend.py:4070: The name tf.nn.max_pool is deprecated. Please use tf.nn.max_pool2d instead.\n",
      "\n"
     ]
    }
   ],
   "source": [
    "classifier.add(Convolution2D(64, (3, 3), input_shape = (64, 64, 1), activation = \"relu\"))\n",
    "classifier.add(MaxPooling2D(pool_size = (2, 2)))\n",
    "classifier.add(Convolution2D(32, (3, 3), activation='relu'))\n",
    "classifier.add(MaxPooling2D(pool_size=(2, 2)))\n",
    "classifier.add(Flatten())\n",
    "\n",
    "\n",
    "#Fully connected layers\n",
    "classifier.add(Dense(units = 256, activation = \"relu\"))\n",
    "classifier.add(Dense(units = 6, activation = \"sigmoid\"))\n",
    "\n",
    "\n",
    "# Compiling the model\n",
    "classifier.compile(optimizer=\"adam\", loss = \"categorical_crossentropy\", metrics=[\"accuracy\"])"
   ]
  },
  {
   "cell_type": "code",
   "execution_count": 9,
   "metadata": {},
   "outputs": [
    {
     "name": "stdout",
     "output_type": "stream",
     "text": [
      "Found 600 images belonging to 6 classes.\n",
      "Found 30 images belonging to 6 classes.\n",
      "WARNING:tensorflow:From /home/rishabh/anaconda3/lib/python3.7/site-packages/tensorflow/python/ops/math_grad.py:1250: add_dispatch_support.<locals>.wrapper (from tensorflow.python.ops.array_ops) is deprecated and will be removed in a future version.\n",
      "Instructions for updating:\n",
      "Use tf.where in 2.0, which has the same broadcast rule as np.where\n",
      "WARNING:tensorflow:From /home/rishabh/anaconda3/lib/python3.7/site-packages/keras/backend/tensorflow_backend.py:422: The name tf.global_variables is deprecated. Please use tf.compat.v1.global_variables instead.\n",
      "\n",
      "Epoch 1/2\n",
      "600/600 [==============================] - 32s 54ms/step - loss: 0.7756 - accuracy: 0.6908 - val_loss: 0.4845 - val_accuracy: 0.9298\n",
      "Epoch 2/2\n",
      "600/600 [==============================] - 33s 55ms/step - loss: 0.2201 - accuracy: 0.9092 - val_loss: 0.0094 - val_accuracy: 0.9375\n"
     ]
    },
    {
     "data": {
      "text/plain": [
       "<keras.callbacks.callbacks.History at 0x7ff310e01ac8>"
      ]
     },
     "execution_count": 9,
     "metadata": {},
     "output_type": "execute_result"
    }
   ],
   "source": [
    "# Data Augmentation to avoid overfitting\n",
    "from keras.preprocessing.image import ImageDataGenerator\n",
    "train_datagen = ImageDataGenerator(rescale=1./255, shear_range=0.1, zoom_range = 0.2, horizontal_flip=True)\n",
    "test_datagen = ImageDataGenerator(rescale=1./255)\n",
    "training_set = train_datagen.flow_from_directory(\"data/train\", target_size=(64, 64), batch_size=4, \n",
    "                                                 color_mode=\"grayscale\", class_mode= \"categorical\")\n",
    "test_set = test_datagen.flow_from_directory(\"data/test\", target_size=(64, 64), batch_size=4, \n",
    "                                                 color_mode=\"grayscale\", class_mode= \"categorical\")\n",
    "\n",
    "\n",
    "# Fitting the training_set and test_set to the classifier\n",
    "classifier.fit_generator(training_set, steps_per_epoch=600, epochs = 2, validation_data=test_set,\n",
    "                         validation_steps=30)"
   ]
  },
  {
   "cell_type": "code",
   "execution_count": 10,
   "metadata": {},
   "outputs": [],
   "source": [
    "# Serializing model to JSON\n",
    "model_json = classifier.to_json()\n",
    "with open (\"model.json\", \"w\") as json_file:\n",
    "    json_file.write(model_json)\n",
    "    \n",
    "# Serializing weights to HDF5\n",
    "classifier.save_weights(\"model.h5\")"
   ]
  },
  {
   "cell_type": "code",
   "execution_count": 11,
   "metadata": {},
   "outputs": [],
   "source": [
    "# Loading model from json\n",
    "from keras.models import model_from_json\n",
    "json_file = open('model.json', 'r')\n",
    "loaded_model_json = json_file.read()\n",
    "json_file.close()\n",
    "loaded_model = model_from_json(loaded_model_json)\n",
    "\n",
    "# Loading weights\n",
    "loaded_model.load_weights(\"model.h5\")\n"
   ]
  },
  {
   "cell_type": "code",
   "execution_count": 12,
   "metadata": {},
   "outputs": [],
   "source": [
    "# Prediction using web cam"
   ]
  },
  {
   "cell_type": "code",
   "execution_count": 13,
   "metadata": {},
   "outputs": [],
   "source": [
    "import vlc\n",
    "import operator\n",
    "player = vlc.MediaPlayer(\"/home/rishabh/Music/zimmer.mp4\")\n",
    "import os, sys\n",
    "\n",
    "cap = cv2.VideoCapture(0)\n",
    "\n",
    "while True:\n",
    "    _, frame = cap.read()\n",
    "    \n",
    "    x1 = int(0.5*frame.shape[1])\n",
    "    y1 = 10\n",
    "    x2 = frame.shape[1] - 10\n",
    "    y2 = int(0.5*frame.shape[1])\n",
    "    \n",
    "    \n",
    "    cv2.rectangle(frame, (x1, y1), (x2, y2), (255, 0, 0), 1)\n",
    "    area = frame[y1:y2, x1:x2]\n",
    "    area = cv2.resize(area, (64, 64))\n",
    "    \n",
    "    area = cv2.cvtColor(area, cv2.COLOR_BGR2GRAY)\n",
    "    ret2, area = cv2.threshold(area, 120, 255, cv2.THRESH_BINARY)\n",
    "    cv2.imshow(\"area\", area)\n",
    "#     cv2.imshow(\"screen_test\", frame)\n",
    "    \n",
    "    result = loaded_model.predict(area.reshape(1, 64, 64, 1))\n",
    "    if result[0][0] == 1:\n",
    "        player.play()\n",
    "    elif result[0][5] == 1:\n",
    "        for i in range (100):\n",
    "            player.audio_set_volume(100-i)\n",
    "            break\n",
    "    elif result[0][3] == 1:\n",
    "        for i in range (100):\n",
    "            player.audio_set_volume(i)\n",
    "            break\n",
    "    prediction = {'Play Video': result[0][0], \n",
    "                  'Try Again': result[0][1], \n",
    "                  'Try Again': result[0][2],\n",
    "                  'Try Again': result[0][3],\n",
    "                  'Mute': result[0][4],\n",
    "                  'Sound': result[0][5]}\n",
    "    prediction = sorted(prediction.items(), key=operator.itemgetter(1), reverse=True)\n",
    "    \n",
    "\n",
    "    cv2.putText(frame, prediction[0][0], (10, 120), cv2.FONT_HERSHEY_PLAIN, 1, (0,255,255), 1)    \n",
    "    cv2.imshow(\"Frame\", frame)\n",
    "    \n",
    "    if cv2.waitKey(1) & 0xFF == ord(\"q\"):\n",
    "        break\n",
    "cap.release()\n",
    "cv2.destroyAllWindows()"
   ]
  },
  {
   "cell_type": "code",
   "execution_count": null,
   "metadata": {},
   "outputs": [],
   "source": []
  }
 ],
 "metadata": {
  "kernelspec": {
   "display_name": "Python 3",
   "language": "python",
   "name": "python3"
  },
  "language_info": {
   "codemirror_mode": {
    "name": "ipython",
    "version": 3
   },
   "file_extension": ".py",
   "mimetype": "text/x-python",
   "name": "python",
   "nbconvert_exporter": "python",
   "pygments_lexer": "ipython3",
   "version": "3.7.3"
  }
 },
 "nbformat": 4,
 "nbformat_minor": 2
}
